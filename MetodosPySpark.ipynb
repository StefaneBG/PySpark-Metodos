{
  "nbformat": 4,
  "nbformat_minor": 0,
  "metadata": {
    "colab": {
      "provenance": [],
      "collapsed_sections": [
        "eHxBazrX-79r",
        "CwLeA3Ks9ZIP",
        "2O5dWkrx9Z-2",
        "FzgAU8UnBgCC",
        "NDPCGzZuGiWv",
        "W58N0h30HPgA"
      ],
      "authorship_tag": "ABX9TyPhqRj8G9VtPbStkgoSMbrB",
      "include_colab_link": true
    },
    "kernelspec": {
      "name": "python3",
      "display_name": "Python 3"
    },
    "language_info": {
      "name": "python"
    }
  },
  "cells": [
    {
      "cell_type": "markdown",
      "metadata": {
        "id": "view-in-github",
        "colab_type": "text"
      },
      "source": [
        "<a href=\"https://colab.research.google.com/github/StefaneBG/PySpark-Metodos/blob/main/MetodosPySpark.ipynb\" target=\"_parent\"><img src=\"https://colab.research.google.com/assets/colab-badge.svg\" alt=\"Open In Colab\"/></a>"
      ]
    },
    {
      "cell_type": "markdown",
      "source": [
        "# Imports e Instalações"
      ],
      "metadata": {
        "id": "eHxBazrX-79r"
      }
    },
    {
      "cell_type": "code",
      "source": [
        "# Importação da biblioteca pandas\n",
        "import pandas as pd"
      ],
      "metadata": {
        "id": "CooGRcff9AE1"
      },
      "execution_count": null,
      "outputs": []
    },
    {
      "cell_type": "code",
      "source": [
        "# Instalação dos requisitos para o PySpark\n",
        "!apt-get install openjdk-8-jdk-headless -qq > /dev/null\n",
        "!wget -q http://archive.apache.org/dist/spark/spark-3.1.1/spark-3.1.1-bin-hadoop3.2.tgz\n",
        "!tar xf spark-3.1.1-bin-hadoop3.2.tgz\n",
        "!pip install -q findspark"
      ],
      "metadata": {
        "id": "yK8Dxtgm9BhF"
      },
      "execution_count": null,
      "outputs": []
    },
    {
      "cell_type": "code",
      "source": [
        "# Configurar as variáveis de ambiente\n",
        "import os\n",
        "os.environ[\"JAVA_HOME\"] = \"/usr/lib/jvm/java-8-openjdk-amd64\"\n",
        "os.environ[\"SPARK_HOME\"] = \"/content/spark-3.1.1-bin-hadoop3.2\"\n",
        "# Torna o pyspark \"importável\"\n",
        "import findspark\n",
        "findspark.init()"
      ],
      "metadata": {
        "id": "7G3vr5Of9C8j"
      },
      "execution_count": null,
      "outputs": []
    },
    {
      "cell_type": "code",
      "source": [
        "from pyspark.sql import SparkSession\n",
        "from pyspark.sql import functions as F\n",
        "\n",
        "# Inicializar a SparkSession com suporte ao Hive\n",
        "spark = SparkSession.builder \\\n",
        "    .appName(\"Spark with Hive on Colab\") \\\n",
        "    .config(\"spark.sql.catalogImplementation\", \"hive\") \\\n",
        "    .config(\"spark.sql.warehouse.dir\", \"/content/spark-warehouse\") \\\n",
        "    .config(\"hive.metastore.warehouse.dir\", \"/content/spark-warehouse\") \\\n",
        "    .enableHiveSupport() \\\n",
        "    .getOrCreate()\n",
        "\n",
        "# Criar diretório para o warehouse\n",
        "!mkdir -p /content/spark-warehouse"
      ],
      "metadata": {
        "id": "Zk1k37K89Q8r"
      },
      "execution_count": null,
      "outputs": []
    },
    {
      "cell_type": "code",
      "source": [
        "# Verifica o SparkContext\n",
        "print(spark)\n",
        "\n",
        "# Exibe a Spark version\n",
        "print(spark.version)"
      ],
      "metadata": {
        "colab": {
          "base_uri": "https://localhost:8080/"
        },
        "id": "_0zBswYX9UFP",
        "outputId": "b60e1265-754f-4fb5-efcc-192afcb015a3"
      },
      "execution_count": null,
      "outputs": [
        {
          "output_type": "stream",
          "name": "stdout",
          "text": [
            "<pyspark.sql.session.SparkSession object at 0x7b8fef92eb60>\n",
            "3.1.1\n"
          ]
        }
      ]
    },
    {
      "cell_type": "markdown",
      "source": [
        "#01 - Carregar as quatro tabelas do banco locadora no PySpark como DataFrames\n"
      ],
      "metadata": {
        "id": "CwLeA3Ks9ZIP"
      }
    },
    {
      "cell_type": "code",
      "execution_count": null,
      "metadata": {
        "id": "zThZXdE461TS"
      },
      "outputs": [],
      "source": [
        "cliente = pd.read_csv('https://docs.google.com/spreadsheets/d/e/2PACX-1vQW3fP3j4qoiMGBXDAGzg_9IW2b3zgjdkVKLsURNVe9QezpHXimWfKle_55CQQtkeWL69OAASBDNdk8/pub?gid=2073489257&single=true&output=csv')\n",
        "aluguel = pd.read_csv('https://docs.google.com/spreadsheets/d/e/2PACX-1vRncyLGO1iOo2H53JaryzVF1GPjUhWl9DsN7TZROCDxaP85iCwl5aW5ffBEzqtpAMRNYkd7eO5ehmgn/pub?gid=1581881382&single=true&output=csv')\n",
        "carro = pd.read_csv('https://docs.google.com/spreadsheets/d/e/2PACX-1vSznlX7UXeH_LeKcNteiDnWvdwZyydAQl0_x8NU9cx6G00Zh7SMrjoUuNpytVq7U-iQVzQNJ7jC7GpY/pub?gid=306989914&single=true&output=csv')\n",
        "marca = pd.read_csv('https://docs.google.com/spreadsheets/d/e/2PACX-1vSI-4_QEFwZ6eDGwUDlip0_PGBn7d_F7j59UwXmRvWbQFyy01ENPatjkbO1E8k5ZW5lqSY9ox112j7X/pub?gid=1160143272&single=true&output=csv')"
      ]
    },
    {
      "cell_type": "code",
      "source": [
        "cliente.to_csv('cliente.csv',index=False)\n",
        "aluguel.to_csv('aluguel.csv',index=False)\n",
        "carro.to_csv('carro.csv',index=False)\n",
        "marca.to_csv('marca.csv',index=False)"
      ],
      "metadata": {
        "id": "-TY2EkXp9cfl"
      },
      "execution_count": null,
      "outputs": []
    },
    {
      "cell_type": "code",
      "source": [
        "# Cria a tabela cliente\n",
        "spark.sql('''\n",
        "CREATE TABLE IF NOT EXISTS cliente (\n",
        "  codcliente INT,\n",
        "  nome STRING,\n",
        "  cidade STRING,\n",
        "  sexo STRING,\n",
        "  estado STRING,\n",
        "  estadocivil STRING\n",
        ")\n",
        "\n",
        "USING CSV\n",
        "OPTIONS (path '/content/cliente.csv', header 'true', inferSchema 'true')\n",
        "''')\n",
        "cliente = spark.sql('''\n",
        "SELECT *\n",
        "FROM cliente\n",
        "''')"
      ],
      "metadata": {
        "id": "E9L33EVc-jQy"
      },
      "execution_count": null,
      "outputs": []
    },
    {
      "cell_type": "code",
      "source": [
        "# Cria a tabela aluguel\n",
        "spark.sql('''\n",
        "CREATE TABLE IF NOT EXISTS aluguel (\n",
        "  codaluguel INT,\n",
        "  codcliente INT,\n",
        "  codcarro INT,\n",
        "  data_aluguel DATE\n",
        ")\n",
        "\n",
        "USING CSV\n",
        "OPTIONS (path '/content/aluguel.csv', header 'true', inferSchema 'true')\n",
        "''')\n",
        "aluguel = spark.sql('''\n",
        "SELECT *\n",
        "FROM aluguel\n",
        "''')"
      ],
      "metadata": {
        "id": "fH_FaEZ3-mop"
      },
      "execution_count": null,
      "outputs": []
    },
    {
      "cell_type": "code",
      "source": [
        "# Cria a tabela carro\n",
        "spark.sql('''\n",
        "CREATE TABLE IF NOT EXISTS carro (\n",
        "  codcarro INT,\n",
        "  codmarca INT,\n",
        "  modelo STRING,\n",
        "  valor DOUBLE\n",
        ")\n",
        "\n",
        "USING CSV\n",
        "OPTIONS (path '/content/carro.csv', header 'true', inferSchema 'true')\n",
        "''')\n",
        "carro = spark.sql('''\n",
        "SELECT *\n",
        "FROM carro\n",
        "''')"
      ],
      "metadata": {
        "id": "4hVoTTwb-pIQ"
      },
      "execution_count": null,
      "outputs": []
    },
    {
      "cell_type": "code",
      "source": [
        "# Cria a tabela marca\n",
        "spark.sql('''\n",
        "CREATE TABLE IF NOT EXISTS marca (\n",
        "  codmarca INT,\n",
        "  marca STRING\n",
        ")\n",
        "\n",
        "USING CSV\n",
        "OPTIONS (path '/content/marca.csv', header 'true', inferSchema 'true')\n",
        "''')\n",
        "marca = spark.sql('''\n",
        "SELECT *\n",
        "FROM marca\n",
        "''')"
      ],
      "metadata": {
        "id": "kjU-bBFm-41h"
      },
      "execution_count": null,
      "outputs": []
    },
    {
      "cell_type": "markdown",
      "source": [
        "#02 - Exibir as cinco primeiras linhas de cada DataFrame\n",
        "\n"
      ],
      "metadata": {
        "id": "2O5dWkrx9Z-2"
      }
    },
    {
      "cell_type": "code",
      "source": [
        "cliente.show(5)"
      ],
      "metadata": {
        "colab": {
          "base_uri": "https://localhost:8080/"
        },
        "id": "eE3hCY9h_Idr",
        "outputId": "a29e9559-5ca2-4a2f-901b-46be97093c5c"
      },
      "execution_count": null,
      "outputs": [
        {
          "output_type": "stream",
          "name": "stdout",
          "text": [
            "+----------+----------------+---------------+----+------+-----------+\n",
            "|codcliente|            nome|         cidade|sexo|estado|estadocivil|\n",
            "+----------+----------------+---------------+----+------+-----------+\n",
            "|         1|       Ana Silva|Duque de Caxias|   F|    RJ|          C|\n",
            "|         2|   Bruna Pereira|        Niterói|   F|    RJ|          C|\n",
            "|         3|Túlio Nascimento|Duque de Caxias|   M|    RJ|          S|\n",
            "|         4|  Fernando Souza|       Campinas|   M|    SP|          S|\n",
            "|         5|   Lúcia Andrade|      São Paulo|   F|    SP|          C|\n",
            "+----------+----------------+---------------+----+------+-----------+\n",
            "\n"
          ]
        }
      ]
    },
    {
      "cell_type": "code",
      "source": [
        "aluguel.show(5)"
      ],
      "metadata": {
        "colab": {
          "base_uri": "https://localhost:8080/"
        },
        "id": "VfiebAWX_QOb",
        "outputId": "c8392937-c068-4f41-c3ca-a01946b9999a"
      },
      "execution_count": null,
      "outputs": [
        {
          "output_type": "stream",
          "name": "stdout",
          "text": [
            "+----------+----------+--------+------------+\n",
            "|codaluguel|codcliente|codcarro|data_aluguel|\n",
            "+----------+----------+--------+------------+\n",
            "|         1|         3|       2|  2023-04-01|\n",
            "|         2|         2|       1|  2023-04-02|\n",
            "|         3|         2|       1|  2023-04-03|\n",
            "|         4|         2|       3|  2023-04-04|\n",
            "|         5|         1|       4|  2023-04-05|\n",
            "+----------+----------+--------+------------+\n",
            "only showing top 5 rows\n",
            "\n"
          ]
        }
      ]
    },
    {
      "cell_type": "code",
      "source": [
        "carro.show(5)"
      ],
      "metadata": {
        "colab": {
          "base_uri": "https://localhost:8080/"
        },
        "id": "b2D12k9A_3Tp",
        "outputId": "4cf5af68-125a-46ec-9067-f167db32fb3b"
      },
      "execution_count": null,
      "outputs": [
        {
          "output_type": "stream",
          "name": "stdout",
          "text": [
            "+--------+--------+------+-----+\n",
            "|codcarro|codmarca|modelo|valor|\n",
            "+--------+--------+------+-----+\n",
            "|       1|       1|    Ka|100.0|\n",
            "|       2|       2|  Argo|150.0|\n",
            "|       3|       3|  Onix|170.0|\n",
            "|       4|       4|  Polo|150.0|\n",
            "|       5|       5|  Kwid|120.0|\n",
            "+--------+--------+------+-----+\n",
            "\n"
          ]
        }
      ]
    },
    {
      "cell_type": "code",
      "source": [
        "marca.show(5)"
      ],
      "metadata": {
        "colab": {
          "base_uri": "https://localhost:8080/"
        },
        "id": "cmhy9Xpe_6HH",
        "outputId": "93265ac6-6866-4ae9-b2f9-63a2fc40f335"
      },
      "execution_count": null,
      "outputs": [
        {
          "output_type": "stream",
          "name": "stdout",
          "text": [
            "+--------+----------+\n",
            "|codmarca|     marca|\n",
            "+--------+----------+\n",
            "|       1|      Ford|\n",
            "|       2|      Fiat|\n",
            "|       3| Chevrolet|\n",
            "|       4|Volkswagen|\n",
            "|       5|   Renault|\n",
            "+--------+----------+\n",
            "\n"
          ]
        }
      ]
    },
    {
      "cell_type": "markdown",
      "source": [
        "#03 - Contar o número de linhas e colunas de cada tabela\n"
      ],
      "metadata": {
        "id": "FzgAU8UnBgCC"
      }
    },
    {
      "cell_type": "code",
      "source": [
        "def count_rows_and_columns(df):\n",
        "    num_linha = df.count()\n",
        "    num_colunas = len(df.columns)\n",
        "    print(f\"Número de linhas: {num_linha}\")\n",
        "    print(f\"Número de colunas: {num_colunas}\")\n",
        "\n"
      ],
      "metadata": {
        "id": "lFDIx1BJBjS2"
      },
      "execution_count": null,
      "outputs": []
    },
    {
      "cell_type": "code",
      "source": [
        "count_rows_and_columns(cliente)\n"
      ],
      "metadata": {
        "colab": {
          "base_uri": "https://localhost:8080/"
        },
        "id": "lVpNLjOFFjhi",
        "outputId": "ba17ec25-e121-4255-cf05-2e4aabfd6cba"
      },
      "execution_count": null,
      "outputs": [
        {
          "output_type": "stream",
          "name": "stdout",
          "text": [
            "Número de linhas: 5\n",
            "Número de colunas: 6\n"
          ]
        }
      ]
    },
    {
      "cell_type": "code",
      "source": [
        "count_rows_and_columns(aluguel)\n"
      ],
      "metadata": {
        "colab": {
          "base_uri": "https://localhost:8080/"
        },
        "id": "TJKbX6xNFkjQ",
        "outputId": "b34daaab-c3b1-42e3-99cc-4fdf7ca18136"
      },
      "execution_count": null,
      "outputs": [
        {
          "output_type": "stream",
          "name": "stdout",
          "text": [
            "Número de linhas: 10\n",
            "Número de colunas: 4\n"
          ]
        }
      ]
    },
    {
      "cell_type": "code",
      "source": [
        "count_rows_and_columns(carro)\n"
      ],
      "metadata": {
        "colab": {
          "base_uri": "https://localhost:8080/"
        },
        "id": "PV0QPf4wFlfo",
        "outputId": "61e0ae2b-5927-4bce-9c66-6be36846a239"
      },
      "execution_count": null,
      "outputs": [
        {
          "output_type": "stream",
          "name": "stdout",
          "text": [
            "Número de linhas: 5\n",
            "Número de colunas: 4\n"
          ]
        }
      ]
    },
    {
      "cell_type": "code",
      "source": [
        "count_rows_and_columns(marca)"
      ],
      "metadata": {
        "colab": {
          "base_uri": "https://localhost:8080/"
        },
        "id": "zX_0_AU_FmjE",
        "outputId": "a25ca203-e9e9-4434-db2e-7dc60bd167e9"
      },
      "execution_count": null,
      "outputs": [
        {
          "output_type": "stream",
          "name": "stdout",
          "text": [
            "Número de linhas: 5\n",
            "Número de colunas: 2\n"
          ]
        }
      ]
    },
    {
      "cell_type": "markdown",
      "source": [
        "# 04 - Exibir o esquema (schema) de cada DataFrame\n"
      ],
      "metadata": {
        "id": "NDPCGzZuGiWv"
      }
    },
    {
      "cell_type": "code",
      "source": [
        "cliente.printSchema()"
      ],
      "metadata": {
        "colab": {
          "base_uri": "https://localhost:8080/"
        },
        "id": "9gPrySxGGmdG",
        "outputId": "4c5eaca8-9bd8-4c1f-e53e-1c77cf300731"
      },
      "execution_count": null,
      "outputs": [
        {
          "output_type": "stream",
          "name": "stdout",
          "text": [
            "root\n",
            " |-- codcliente: integer (nullable = true)\n",
            " |-- nome: string (nullable = true)\n",
            " |-- cidade: string (nullable = true)\n",
            " |-- sexo: string (nullable = true)\n",
            " |-- estado: string (nullable = true)\n",
            " |-- estadocivil: string (nullable = true)\n",
            "\n"
          ]
        }
      ]
    },
    {
      "cell_type": "code",
      "source": [
        "marca.printSchema()"
      ],
      "metadata": {
        "colab": {
          "base_uri": "https://localhost:8080/"
        },
        "id": "XTVIpZxpHEJv",
        "outputId": "ab8078a4-f98e-4651-91aa-0b26bfec5b56"
      },
      "execution_count": null,
      "outputs": [
        {
          "output_type": "stream",
          "name": "stdout",
          "text": [
            "root\n",
            " |-- codmarca: integer (nullable = true)\n",
            " |-- marca: string (nullable = true)\n",
            "\n"
          ]
        }
      ]
    },
    {
      "cell_type": "code",
      "source": [
        "carro.printSchema()"
      ],
      "metadata": {
        "colab": {
          "base_uri": "https://localhost:8080/"
        },
        "id": "gMb9XX8kHHXG",
        "outputId": "84b4ca58-e544-43e2-e1dd-7c1d27d84cf8"
      },
      "execution_count": null,
      "outputs": [
        {
          "output_type": "stream",
          "name": "stdout",
          "text": [
            "root\n",
            " |-- codcarro: integer (nullable = true)\n",
            " |-- codmarca: integer (nullable = true)\n",
            " |-- modelo: string (nullable = true)\n",
            " |-- valor: double (nullable = true)\n",
            "\n"
          ]
        }
      ]
    },
    {
      "cell_type": "code",
      "source": [
        "aluguel.printSchema()"
      ],
      "metadata": {
        "colab": {
          "base_uri": "https://localhost:8080/"
        },
        "id": "TA42pbYnHIdc",
        "outputId": "3921b481-d044-488d-d26d-39642636523f"
      },
      "execution_count": null,
      "outputs": [
        {
          "output_type": "stream",
          "name": "stdout",
          "text": [
            "root\n",
            " |-- codaluguel: integer (nullable = true)\n",
            " |-- codcliente: integer (nullable = true)\n",
            " |-- codcarro: integer (nullable = true)\n",
            " |-- data_aluguel: date (nullable = true)\n",
            "\n"
          ]
        }
      ]
    },
    {
      "cell_type": "markdown",
      "source": [
        "# 05 - Renomear as colunas dos DataFrames para ter nomes mais amigáveis\n"
      ],
      "metadata": {
        "id": "W58N0h30HPgA"
      }
    },
    {
      "cell_type": "code",
      "source": [
        "cliente=cliente.withColumnRenamed('codcliente','ID_Cliente')\\\n",
        "                .withColumnRenamed('nome','Nome')\\\n",
        "                .withColumnRenamed('cidade','Cidade')\\\n",
        "                .withColumnRenamed('sexo','Sexo')\\\n",
        "                .withColumnRenamed('estado','Estado')\\\n",
        "                .withColumnRenamed('estadocivil','Estado_Civil')\n",
        "cliente.columns"
      ],
      "metadata": {
        "colab": {
          "base_uri": "https://localhost:8080/"
        },
        "id": "FzLv_UC1Hr2a",
        "outputId": "014e1a24-64ca-4ec1-e650-f93ec08cb56b"
      },
      "execution_count": null,
      "outputs": [
        {
          "output_type": "execute_result",
          "data": {
            "text/plain": [
              "['ID_Cliente', 'Nome', 'Cidade', 'Sexo', 'Estado', 'Estado_Civil']"
            ]
          },
          "metadata": {},
          "execution_count": 25
        }
      ]
    },
    {
      "cell_type": "code",
      "source": [
        "aluguel=aluguel.withColumnRenamed('codaluguel','ID_Aluguel')\\\n",
        "                .withColumnRenamed('codcliente','ID_Cliente')\\\n",
        "                .withColumnRenamed('codcarro','ID_Carro')\\\n",
        "                .withColumnRenamed('data_aluguel','Data_Aluguel')\n",
        "aluguel.columns"
      ],
      "metadata": {
        "colab": {
          "base_uri": "https://localhost:8080/"
        },
        "id": "oSV69xbiJbZ5",
        "outputId": "cd8c78d5-e9be-4675-91fd-fdb843bf193c"
      },
      "execution_count": null,
      "outputs": [
        {
          "output_type": "execute_result",
          "data": {
            "text/plain": [
              "['ID_Aluguel', 'ID_Cliente', 'ID_Carro', 'Data_Aluguel']"
            ]
          },
          "metadata": {},
          "execution_count": 26
        }
      ]
    },
    {
      "cell_type": "code",
      "source": [
        "marca=marca.withColumnRenamed('codmarca','ID_Marca')\\\n",
        "            .withColumnRenamed('marca','Marca')\n",
        "marca.columns\n"
      ],
      "metadata": {
        "colab": {
          "base_uri": "https://localhost:8080/"
        },
        "id": "d6Zy10G7JeAn",
        "outputId": "b3bc7298-3240-4ef2-bb93-95d6332850fb"
      },
      "execution_count": null,
      "outputs": [
        {
          "output_type": "execute_result",
          "data": {
            "text/plain": [
              "['ID_Marca', 'Marca']"
            ]
          },
          "metadata": {},
          "execution_count": 27
        }
      ]
    },
    {
      "cell_type": "code",
      "source": [
        "carro=carro.withColumnRenamed('codcarro','ID_Carro')\\\n",
        "          .withColumnRenamed('codmarca','ID_Marca')\\\n",
        "          .withColumnRenamed('modelo','Modelo')\\\n",
        "          .withColumnRenamed('valor','Valor')\n",
        "carro.columns"
      ],
      "metadata": {
        "colab": {
          "base_uri": "https://localhost:8080/"
        },
        "id": "cbzXtSjRLpgz",
        "outputId": "b9509a7a-8aa4-489a-8937-1a1c03c55259"
      },
      "execution_count": null,
      "outputs": [
        {
          "output_type": "execute_result",
          "data": {
            "text/plain": [
              "['ID_Carro', 'ID_Marca', 'Modelo', 'Valor']"
            ]
          },
          "metadata": {},
          "execution_count": 28
        }
      ]
    },
    {
      "cell_type": "markdown",
      "source": [
        "#06 - Selecionar apenas os aluguéis realizados após uma data específica\n"
      ],
      "metadata": {
        "id": "I1tY5yYVwwCG"
      }
    },
    {
      "cell_type": "code",
      "source": [
        "data_especifica = \"2023-01-01\"\n",
        "aluguel.withColumn(\"Data_Aluguel\",aluguel.Data_Aluguel.cast('date')).filter(aluguel.Data_Aluguel > data_especifica).show()"
      ],
      "metadata": {
        "colab": {
          "base_uri": "https://localhost:8080/"
        },
        "id": "Zy4lpppJw0Kk",
        "outputId": "16fc5c98-9569-42b2-ce06-bdf6879d9824"
      },
      "execution_count": null,
      "outputs": [
        {
          "output_type": "stream",
          "name": "stdout",
          "text": [
            "+----------+----------+--------+------------+\n",
            "|ID_Aluguel|ID_Cliente|ID_Carro|Data_Aluguel|\n",
            "+----------+----------+--------+------------+\n",
            "|         1|         3|       2|  2023-04-01|\n",
            "|         2|         2|       1|  2023-04-02|\n",
            "|         3|         2|       1|  2023-04-03|\n",
            "|         4|         2|       3|  2023-04-04|\n",
            "|         5|         1|       4|  2023-04-05|\n",
            "|         6|         1|       4|  2023-04-13|\n",
            "|         7|         1|       1|  2023-04-15|\n",
            "|         8|         5|       2|  2023-04-19|\n",
            "|         9|         5|       2|  2023-04-21|\n",
            "|        10|         3|       1|  2023-04-25|\n",
            "+----------+----------+--------+------------+\n",
            "\n"
          ]
        }
      ]
    },
    {
      "cell_type": "markdown",
      "source": [
        "# 07 - Encontrar clientes que residem no estado de \"RJ\"\n"
      ],
      "metadata": {
        "id": "ZEwht3SEzSpG"
      }
    },
    {
      "cell_type": "code",
      "source": [
        "cliente.filter(cliente.Estado == 'RJ').show()"
      ],
      "metadata": {
        "colab": {
          "base_uri": "https://localhost:8080/"
        },
        "id": "uZImTTTszYpV",
        "outputId": "c884cba2-141a-4e6e-be6c-61d1086fae78"
      },
      "execution_count": null,
      "outputs": [
        {
          "output_type": "stream",
          "name": "stdout",
          "text": [
            "+----------+----------------+---------------+----+------+------------+\n",
            "|ID_Cliente|            Nome|         Cidade|Sexo|Estado|Estado_Civil|\n",
            "+----------+----------------+---------------+----+------+------------+\n",
            "|         1|       Ana Silva|Duque de Caxias|   F|    RJ|           C|\n",
            "|         2|   Bruna Pereira|        Niterói|   F|    RJ|           C|\n",
            "|         3|Túlio Nascimento|Duque de Caxias|   M|    RJ|           S|\n",
            "+----------+----------------+---------------+----+------+------------+\n",
            "\n"
          ]
        }
      ]
    },
    {
      "cell_type": "markdown",
      "source": [
        "# 08 - Filtrar carros com valor de aluguel maior que 150\n"
      ],
      "metadata": {
        "id": "fTVt3z1YzfLt"
      }
    },
    {
      "cell_type": "code",
      "source": [
        "carro.filter(carro.Valor > 150).show()"
      ],
      "metadata": {
        "colab": {
          "base_uri": "https://localhost:8080/"
        },
        "id": "noLUnJJQziaf",
        "outputId": "e0c3ae47-3c80-4222-a488-5bc77782bcb0"
      },
      "execution_count": null,
      "outputs": [
        {
          "output_type": "stream",
          "name": "stdout",
          "text": [
            "+--------+--------+------+-----+\n",
            "|ID_Carro|ID_Marca|Modelo|Valor|\n",
            "+--------+--------+------+-----+\n",
            "|       3|       3|  Onix|170.0|\n",
            "+--------+--------+------+-----+\n",
            "\n"
          ]
        }
      ]
    },
    {
      "cell_type": "markdown",
      "source": [
        "# 09 - Selecionar aluguéis onde o cliente é do sexo feminino\n"
      ],
      "metadata": {
        "id": "Bt0ozrn7z-8J"
      }
    },
    {
      "cell_type": "code",
      "source": [
        "cliente.where(cliente.Sexo == 'F').show()"
      ],
      "metadata": {
        "colab": {
          "base_uri": "https://localhost:8080/"
        },
        "id": "T8WO7Sg30By3",
        "outputId": "66b830d5-0502-462d-b44a-189c86b02903"
      },
      "execution_count": null,
      "outputs": [
        {
          "output_type": "stream",
          "name": "stdout",
          "text": [
            "+----------+-------------+---------------+----+------+------------+\n",
            "|ID_Cliente|         Nome|         Cidade|Sexo|Estado|Estado_Civil|\n",
            "+----------+-------------+---------------+----+------+------------+\n",
            "|         1|    Ana Silva|Duque de Caxias|   F|    RJ|           C|\n",
            "|         2|Bruna Pereira|        Niterói|   F|    RJ|           C|\n",
            "|         5|Lúcia Andrade|      São Paulo|   F|    SP|           C|\n",
            "+----------+-------------+---------------+----+------+------------+\n",
            "\n"
          ]
        }
      ]
    },
    {
      "cell_type": "markdown",
      "source": [
        "# 10 - Identificar clientes solteiros"
      ],
      "metadata": {
        "id": "yI0idVpf0YJZ"
      }
    },
    {
      "cell_type": "code",
      "source": [
        "cliente.where(cliente.Estado_Civil == 'S').show()"
      ],
      "metadata": {
        "colab": {
          "base_uri": "https://localhost:8080/"
        },
        "id": "cFJm_Y__0Mvu",
        "outputId": "743d9245-08fb-43f6-fb94-08e31f5c4726"
      },
      "execution_count": null,
      "outputs": [
        {
          "output_type": "stream",
          "name": "stdout",
          "text": [
            "+----------+----------------+---------------+----+------+------------+\n",
            "|ID_Cliente|            Nome|         Cidade|Sexo|Estado|Estado_Civil|\n",
            "+----------+----------------+---------------+----+------+------------+\n",
            "|         3|Túlio Nascimento|Duque de Caxias|   M|    RJ|           S|\n",
            "|         4|  Fernando Souza|       Campinas|   M|    SP|           S|\n",
            "+----------+----------------+---------------+----+------+------------+\n",
            "\n"
          ]
        }
      ]
    },
    {
      "cell_type": "markdown",
      "source": [
        "# 11 - Realizar um join entre \"Aluguel\" e \"Cliente\" para adicionar informações do cliente ao DataFrame de aluguéis"
      ],
      "metadata": {
        "id": "yEAKFP5y0yxk"
      }
    },
    {
      "cell_type": "code",
      "source": [
        "aluguel.join(cliente, aluguel.ID_Cliente == cliente.ID_Cliente,'inner').show()"
      ],
      "metadata": {
        "colab": {
          "base_uri": "https://localhost:8080/"
        },
        "id": "b-KhP3um0177",
        "outputId": "addd445e-e8fd-43bc-9021-3f9b6b13f14e"
      },
      "execution_count": null,
      "outputs": [
        {
          "output_type": "stream",
          "name": "stdout",
          "text": [
            "+----------+----------+--------+------------+----------+----------------+---------------+----+------+------------+\n",
            "|ID_Aluguel|ID_Cliente|ID_Carro|Data_Aluguel|ID_Cliente|            Nome|         Cidade|Sexo|Estado|Estado_Civil|\n",
            "+----------+----------+--------+------------+----------+----------------+---------------+----+------+------------+\n",
            "|         7|         1|       1|  2023-04-15|         1|       Ana Silva|Duque de Caxias|   F|    RJ|           C|\n",
            "|         6|         1|       4|  2023-04-13|         1|       Ana Silva|Duque de Caxias|   F|    RJ|           C|\n",
            "|         5|         1|       4|  2023-04-05|         1|       Ana Silva|Duque de Caxias|   F|    RJ|           C|\n",
            "|         4|         2|       3|  2023-04-04|         2|   Bruna Pereira|        Niterói|   F|    RJ|           C|\n",
            "|         3|         2|       1|  2023-04-03|         2|   Bruna Pereira|        Niterói|   F|    RJ|           C|\n",
            "|         2|         2|       1|  2023-04-02|         2|   Bruna Pereira|        Niterói|   F|    RJ|           C|\n",
            "|        10|         3|       1|  2023-04-25|         3|Túlio Nascimento|Duque de Caxias|   M|    RJ|           S|\n",
            "|         1|         3|       2|  2023-04-01|         3|Túlio Nascimento|Duque de Caxias|   M|    RJ|           S|\n",
            "|         9|         5|       2|  2023-04-21|         5|   Lúcia Andrade|      São Paulo|   F|    SP|           C|\n",
            "|         8|         5|       2|  2023-04-19|         5|   Lúcia Andrade|      São Paulo|   F|    SP|           C|\n",
            "+----------+----------+--------+------------+----------+----------------+---------------+----+------+------------+\n",
            "\n"
          ]
        }
      ]
    },
    {
      "cell_type": "markdown",
      "source": [
        "# 12 - Juntar \"Carro\" e \"Marca\" para incluir o nome da marca no DataFrame de carros"
      ],
      "metadata": {
        "id": "e1IfhjLC13eV"
      }
    },
    {
      "cell_type": "code",
      "source": [
        "'''\n",
        "['ID_Marca', 'Marca']\n",
        "['ID_Carro', 'ID_Marca', 'Modelo', 'Valor']\n",
        "'''\n",
        "carro.join(marca, carro.ID_Marca == marca.ID_Marca,).show()"
      ],
      "metadata": {
        "colab": {
          "base_uri": "https://localhost:8080/"
        },
        "id": "m3-FcppL15A9",
        "outputId": "c75b0235-f99e-4403-f89c-2bf29a398ebe"
      },
      "execution_count": null,
      "outputs": [
        {
          "output_type": "stream",
          "name": "stdout",
          "text": [
            "+--------+--------+------+-----+--------+----------+\n",
            "|ID_Carro|ID_Marca|Modelo|Valor|ID_Marca|     Marca|\n",
            "+--------+--------+------+-----+--------+----------+\n",
            "|       1|       1|    Ka|100.0|       1|      Ford|\n",
            "|       2|       2|  Argo|150.0|       2|      Fiat|\n",
            "|       3|       3|  Onix|170.0|       3| Chevrolet|\n",
            "|       4|       4|  Polo|150.0|       4|Volkswagen|\n",
            "|       5|       5|  Kwid|120.0|       5|   Renault|\n",
            "+--------+--------+------+-----+--------+----------+\n",
            "\n"
          ]
        }
      ]
    },
    {
      "cell_type": "markdown",
      "source": [
        "# 13 - Criar um DataFrame combinando \"Aluguel\", \"Carro\" e \"Cliente\"\n"
      ],
      "metadata": {
        "id": "YxTYD3qT2gCt"
      }
    },
    {
      "cell_type": "code",
      "source": [
        "aluguel_carro_cliente = aluguel \\\n",
        "    .join(carro, aluguel.ID_Carro == carro.ID_Carro, \"inner\") \\\n",
        "    .join(cliente, aluguel.ID_Cliente == cliente.ID_Cliente, \"inner\")\\\n",
        "    .select('Nome','Cidade','Sexo','Estado','Estado_Civil','Data_Aluguel','Modelo','Valor')\n",
        "\n",
        "aluguel_carro_cliente.show()"
      ],
      "metadata": {
        "colab": {
          "base_uri": "https://localhost:8080/"
        },
        "id": "-GypEg_F2lLS",
        "outputId": "5cd2aeb8-eaa5-46ea-9cc1-bd2e87a13344"
      },
      "execution_count": null,
      "outputs": [
        {
          "output_type": "stream",
          "name": "stdout",
          "text": [
            "+----------------+---------------+----+------+------------+------------+------+-----+\n",
            "|            Nome|         Cidade|Sexo|Estado|Estado_Civil|Data_Aluguel|Modelo|Valor|\n",
            "+----------------+---------------+----+------+------------+------------+------+-----+\n",
            "|Túlio Nascimento|Duque de Caxias|   M|    RJ|           S|  2023-04-01|  Argo|150.0|\n",
            "|   Bruna Pereira|        Niterói|   F|    RJ|           C|  2023-04-02|    Ka|100.0|\n",
            "|   Bruna Pereira|        Niterói|   F|    RJ|           C|  2023-04-03|    Ka|100.0|\n",
            "|   Bruna Pereira|        Niterói|   F|    RJ|           C|  2023-04-04|  Onix|170.0|\n",
            "|       Ana Silva|Duque de Caxias|   F|    RJ|           C|  2023-04-05|  Polo|150.0|\n",
            "|       Ana Silva|Duque de Caxias|   F|    RJ|           C|  2023-04-13|  Polo|150.0|\n",
            "|       Ana Silva|Duque de Caxias|   F|    RJ|           C|  2023-04-15|    Ka|100.0|\n",
            "|   Lúcia Andrade|      São Paulo|   F|    SP|           C|  2023-04-19|  Argo|150.0|\n",
            "|   Lúcia Andrade|      São Paulo|   F|    SP|           C|  2023-04-21|  Argo|150.0|\n",
            "|Túlio Nascimento|Duque de Caxias|   M|    RJ|           S|  2023-04-25|    Ka|100.0|\n",
            "+----------------+---------------+----+------+------------+------------+------+-----+\n",
            "\n"
          ]
        }
      ]
    },
    {
      "cell_type": "markdown",
      "source": [
        "# 14 - Realizar um join entre \"Cliente\" e \"Carro\" com uma condição específica\n"
      ],
      "metadata": {
        "id": "U8XkyipA6wyH"
      }
    },
    {
      "cell_type": "code",
      "source": [
        "\n",
        "cliente_aluguel_join = cliente.join(aluguel, cliente.ID_Cliente == aluguel.ID_Cliente, 'left')\n",
        "cliente_carro_join = cliente_aluguel_join.join(carro, cliente_aluguel_join.ID_Carro == carro.ID_Carro, 'left')\n",
        "cliente_carro_filtered = cliente_carro_join.filter((cliente_carro_join.Sexo == 'M') & (cliente_carro_join.Valor > 100))\\\n",
        "                                            .select('Nome','Cidade','Estado','Estado_Civil','Modelo','Valor')\\\n",
        "                                            .show()\n",
        "\n"
      ],
      "metadata": {
        "colab": {
          "base_uri": "https://localhost:8080/"
        },
        "id": "W736KfFt7B0i",
        "outputId": "41eb7da4-d4ca-4738-ff67-82c79e046e61"
      },
      "execution_count": null,
      "outputs": [
        {
          "output_type": "stream",
          "name": "stdout",
          "text": [
            "+----------------+---------------+------+------------+------+-----+\n",
            "|            Nome|         Cidade|Estado|Estado_Civil|Modelo|Valor|\n",
            "+----------------+---------------+------+------------+------+-----+\n",
            "|Túlio Nascimento|Duque de Caxias|    RJ|           S|  Argo|150.0|\n",
            "+----------------+---------------+------+------------+------+-----+\n",
            "\n"
          ]
        }
      ]
    },
    {
      "cell_type": "markdown",
      "source": [
        "# 15 - Encontrar o valor médio dos carros alugados\n"
      ],
      "metadata": {
        "id": "j8kS5GVZB7Og"
      }
    },
    {
      "cell_type": "code",
      "source": [
        "carro.groupBy('Modelo').agg(F.avg('Valor').alias('valor_medio')).show()"
      ],
      "metadata": {
        "colab": {
          "base_uri": "https://localhost:8080/"
        },
        "id": "3CzHEFOKB6nf",
        "outputId": "2e396f5f-e54b-4eb4-e3c0-66c8f63fe832"
      },
      "execution_count": null,
      "outputs": [
        {
          "output_type": "stream",
          "name": "stdout",
          "text": [
            "+------+-----------+\n",
            "|Modelo|valor_medio|\n",
            "+------+-----------+\n",
            "|    Ka|      100.0|\n",
            "|  Polo|      150.0|\n",
            "|  Onix|      170.0|\n",
            "|  Kwid|      120.0|\n",
            "|  Argo|      150.0|\n",
            "+------+-----------+\n",
            "\n"
          ]
        }
      ]
    },
    {
      "cell_type": "markdown",
      "source": [
        "#16 - Calcular o número total de clientes por estado\n"
      ],
      "metadata": {
        "id": "MqEmD6ZXClyc"
      }
    },
    {
      "cell_type": "code",
      "source": [
        "cliente.groupBy('Estado').agg(F.count('ID_Cliente').alias('total_clientes')).show()"
      ],
      "metadata": {
        "colab": {
          "base_uri": "https://localhost:8080/"
        },
        "id": "7mNu8uS2CoJf",
        "outputId": "63289f6c-5f50-4e47-8d4c-494f4c71bd2e"
      },
      "execution_count": null,
      "outputs": [
        {
          "output_type": "stream",
          "name": "stdout",
          "text": [
            "+------+--------------+\n",
            "|Estado|total_clientes|\n",
            "+------+--------------+\n",
            "|    SP|             2|\n",
            "|    RJ|             3|\n",
            "+------+--------------+\n",
            "\n"
          ]
        }
      ]
    },
    {
      "cell_type": "markdown",
      "source": [
        "#17 - Identificar a marca mais popular com base nos aluguéis\n"
      ],
      "metadata": {
        "id": "KL1UTQRWCork"
      }
    },
    {
      "cell_type": "code",
      "source": [
        "marca_carro=marca.join(carro, marca.ID_Marca == carro.ID_Marca, 'inner').join(aluguel, carro.ID_Carro == aluguel.ID_Carro, 'inner')\n",
        "marca_carro.groupBy('Marca').agg(F.count('ID_Aluguel').alias('total_alugueis')).orderBy(F.desc('total_alugueis')).show()"
      ],
      "metadata": {
        "colab": {
          "base_uri": "https://localhost:8080/"
        },
        "id": "qaLF52ZxCrcO",
        "outputId": "48d12ce1-df87-4abb-9aff-da460296d891"
      },
      "execution_count": null,
      "outputs": [
        {
          "output_type": "stream",
          "name": "stdout",
          "text": [
            "+----------+--------------+\n",
            "|     Marca|total_alugueis|\n",
            "+----------+--------------+\n",
            "|      Ford|             4|\n",
            "|      Fiat|             3|\n",
            "|Volkswagen|             2|\n",
            "| Chevrolet|             1|\n",
            "+----------+--------------+\n",
            "\n"
          ]
        }
      ]
    },
    {
      "cell_type": "markdown",
      "source": [
        "#18 - Determinar o maior e menor valor de aluguel entre os carros\n"
      ],
      "metadata": {
        "id": "mDNxwE6oCsCT"
      }
    },
    {
      "cell_type": "code",
      "source": [
        "\n",
        "aluguel_com_valor = aluguel.join(carro, aluguel.ID_Carro == carro.ID_Carro, \"inner\")\n",
        "aluguel_com_valor.agg(F.max('Valor').alias('maior_valor'), F.min('Valor').alias('menor_valor')).show()"
      ],
      "metadata": {
        "colab": {
          "base_uri": "https://localhost:8080/"
        },
        "id": "IdKJ--tQCusr",
        "outputId": "7d8707e7-5bf6-4dd3-a7e7-c85b12f7c8c4"
      },
      "execution_count": null,
      "outputs": [
        {
          "output_type": "stream",
          "name": "stdout",
          "text": [
            "+-----------+-----------+\n",
            "|maior_valor|menor_valor|\n",
            "+-----------+-----------+\n",
            "|      170.0|      100.0|\n",
            "+-----------+-----------+\n",
            "\n"
          ]
        }
      ]
    },
    {
      "cell_type": "markdown",
      "source": [
        "#19 - Classificar os carros pelo valor do aluguel em ordem decrescente\n"
      ],
      "metadata": {
        "id": "NDVtY5UgCvsO"
      }
    },
    {
      "cell_type": "code",
      "source": [
        "aluguel_carro_cliente \\\n",
        "    .select('Modelo', 'Valor') \\\n",
        "    .orderBy(F.desc('Valor')) \\\n",
        "    .show()\n",
        "\n"
      ],
      "metadata": {
        "colab": {
          "base_uri": "https://localhost:8080/"
        },
        "id": "mQTc0XgaCxyj",
        "outputId": "cc7076b5-b994-45dc-cd01-0754fecadc3a"
      },
      "execution_count": null,
      "outputs": [
        {
          "output_type": "stream",
          "name": "stdout",
          "text": [
            "+------+-----+\n",
            "|Modelo|Valor|\n",
            "+------+-----+\n",
            "|  Onix|170.0|\n",
            "|  Argo|150.0|\n",
            "|  Argo|150.0|\n",
            "|  Polo|150.0|\n",
            "|  Polo|150.0|\n",
            "|  Argo|150.0|\n",
            "|    Ka|100.0|\n",
            "|    Ka|100.0|\n",
            "|    Ka|100.0|\n",
            "|    Ka|100.0|\n",
            "+------+-----+\n",
            "\n"
          ]
        }
      ]
    },
    {
      "cell_type": "markdown",
      "source": [
        "#20 - Calcular a diferença em dias entre o aluguel mais recente e o mais antigo\n"
      ],
      "metadata": {
        "id": "XcdZddLqCyOt"
      }
    },
    {
      "cell_type": "code",
      "source": [
        "aluguel_carro_cliente.withColumn(\"Data_Aluguel\",aluguel_carro_cliente.Data_Aluguel.cast('date')) \\\n",
        "                     .agg(F.max('Data_Aluguel').alias('data_mais_recente'),\n",
        "                          F.min('Data_Aluguel').alias('data_mais_antiga')) \\\n",
        "                          .show()\n"
      ],
      "metadata": {
        "colab": {
          "base_uri": "https://localhost:8080/"
        },
        "id": "23TTcdirC0Dd",
        "outputId": "069421af-e2f5-4837-cac6-60bb26e4c758"
      },
      "execution_count": null,
      "outputs": [
        {
          "output_type": "stream",
          "name": "stdout",
          "text": [
            "+-----------------+----------------+\n",
            "|data_mais_recente|data_mais_antiga|\n",
            "+-----------------+----------------+\n",
            "|       2023-04-25|      2023-04-01|\n",
            "+-----------------+----------------+\n",
            "\n"
          ]
        }
      ]
    },
    {
      "cell_type": "markdown",
      "source": [
        "#21 - Criar uma coluna no DataFrame \"Carro\" para categorizar os valores de\n",
        "\n",
        "---\n",
        "\n",
        "\n"
      ],
      "metadata": {
        "id": "he3wlLe4C0j9"
      }
    },
    {
      "cell_type": "code",
      "source": [],
      "metadata": {
        "colab": {
          "base_uri": "https://localhost:8080/"
        },
        "id": "UEIjC3f3C2WO",
        "outputId": "d3639ef6-d437-439e-9386-852a403374d3"
      },
      "execution_count": null,
      "outputs": [
        {
          "output_type": "stream",
          "name": "stdout",
          "text": [
            "+------+-------------+\n",
            "|Modelo|total_aluguel|\n",
            "+------+-------------+\n",
            "|  Argo|        450.0|\n",
            "|    Ka|        400.0|\n",
            "|  Polo|        300.0|\n",
            "|  Onix|        170.0|\n",
            "+------+-------------+\n",
            "\n"
          ]
        }
      ]
    },
    {
      "cell_type": "markdown",
      "source": [
        "#22 - Criar uma coluna no DataFrame \"Cliente\" para indicar se a cidade é a capital do estado\n"
      ],
      "metadata": {
        "id": "6akDHi7tC28-"
      }
    },
    {
      "cell_type": "code",
      "source": [
        "capitalsp= 'São Paulo'\n",
        "capitalrj= 'Rio de Janeiro'\n",
        "\n",
        "cliente.withColumn('Capital', F.when((cliente.Cidade == capitalsp) | (cliente.Cidade == capitalrj), 'Sim').otherwise('Não')).show()"
      ],
      "metadata": {
        "colab": {
          "base_uri": "https://localhost:8080/"
        },
        "id": "az7I_obBC43i",
        "outputId": "17a7833e-e062-449c-83f3-8cf16b8a2936"
      },
      "execution_count": null,
      "outputs": [
        {
          "output_type": "stream",
          "name": "stdout",
          "text": [
            "+----------+----------------+---------------+----+------+------------+-------+\n",
            "|ID_Cliente|            Nome|         Cidade|Sexo|Estado|Estado_Civil|Capital|\n",
            "+----------+----------------+---------------+----+------+------------+-------+\n",
            "|         1|       Ana Silva|Duque de Caxias|   F|    RJ|           C|    Não|\n",
            "|         2|   Bruna Pereira|        Niterói|   F|    RJ|           C|    Não|\n",
            "|         3|Túlio Nascimento|Duque de Caxias|   M|    RJ|           S|    Não|\n",
            "|         4|  Fernando Souza|       Campinas|   M|    SP|           S|    Não|\n",
            "|         5|   Lúcia Andrade|      São Paulo|   F|    SP|           C|    Sim|\n",
            "+----------+----------------+---------------+----+------+------------+-------+\n",
            "\n"
          ]
        }
      ]
    },
    {
      "cell_type": "markdown",
      "source": [
        "# 23 - Adicionar uma coluna em \"Aluguel\" com o valor total do aluguel, considerando uma taxa fixa de 10%\n"
      ],
      "metadata": {
        "id": "LKiQ9rl7C6o0"
      }
    },
    {
      "cell_type": "code",
      "source": [
        "# Adicionar a nova coluna com o valor ajustado\n",
        "aluguel_carro_cliente = aluguel_carro_cliente.withColumn(\n",
        "    'Valor_Total',\n",
        "    F.round(aluguel_carro_cliente.Valor * 1.1, 2)\n",
        ")\n",
        "aluguel_carro_cliente.select('Nome','Valor_Total').show()"
      ],
      "metadata": {
        "colab": {
          "base_uri": "https://localhost:8080/"
        },
        "id": "LyRW4uW3C8gN",
        "outputId": "30ed1b86-de79-403d-8ad0-f566bc81a8e5"
      },
      "execution_count": null,
      "outputs": [
        {
          "output_type": "stream",
          "name": "stdout",
          "text": [
            "+----------------+-----------+\n",
            "|            Nome|Valor_Total|\n",
            "+----------------+-----------+\n",
            "|Túlio Nascimento|      165.0|\n",
            "|   Bruna Pereira|      110.0|\n",
            "|   Bruna Pereira|      110.0|\n",
            "|   Bruna Pereira|      187.0|\n",
            "|       Ana Silva|      165.0|\n",
            "|       Ana Silva|      165.0|\n",
            "|       Ana Silva|      110.0|\n",
            "|   Lúcia Andrade|      165.0|\n",
            "|   Lúcia Andrade|      165.0|\n",
            "|Túlio Nascimento|      110.0|\n",
            "+----------------+-----------+\n",
            "\n"
          ]
        }
      ]
    },
    {
      "cell_type": "markdown",
      "source": [
        "#24 - Agrupar os aluguéis por cliente e contar o número de carros alugados"
      ],
      "metadata": {
        "id": "OfMMCHqyC8_4"
      }
    },
    {
      "cell_type": "code",
      "source": [
        "cliente_aluguel_join.groupBy('Nome').agg(F.count('ID_Carro').alias('total_carros_alugados')).show()"
      ],
      "metadata": {
        "colab": {
          "base_uri": "https://localhost:8080/"
        },
        "id": "mioj0UJ6C-uD",
        "outputId": "0142a4ce-4fa6-45c8-c1e4-d330cfe555cf"
      },
      "execution_count": null,
      "outputs": [
        {
          "output_type": "stream",
          "name": "stdout",
          "text": [
            "+----------------+---------------------+\n",
            "|            Nome|total_carros_alugados|\n",
            "+----------------+---------------------+\n",
            "|       Ana Silva|                    3|\n",
            "|Túlio Nascimento|                    2|\n",
            "|   Lúcia Andrade|                    2|\n",
            "|   Bruna Pereira|                    3|\n",
            "|  Fernando Souza|                    0|\n",
            "+----------------+---------------------+\n",
            "\n"
          ]
        }
      ]
    },
    {
      "cell_type": "markdown",
      "source": [
        "#25 - Criar um script PySpark para agendar a execução automática das transformações"
      ],
      "metadata": {
        "id": "g0m18cQkC_S8"
      }
    },
    {
      "cell_type": "code",
      "source": [
        "# prompt: Criar um script PySpark para agendar a execução automática das transformações\n",
        "\n",
        "# Define a função que contém as suas transformações\n",
        "def executar_transformacoes():\n",
        "    # ... (seu código de transformação existente aqui) ...\n",
        "    pass  # Substitua 'pass' pelo seu código\n",
        "\n",
        "# Usa o módulo apscheduler para agendar a execução\n",
        "from apscheduler.schedulers.background import BackgroundScheduler\n",
        "\n",
        "scheduler = BackgroundScheduler()\n",
        "\n",
        "# Executa as transformações a cada dia às 00:00 (meio-noite)\n",
        "scheduler.add_job(executar_transformacoes, 'cron', hour=0, minute=0)\n",
        "\n",
        "# Inicia o scheduler\n",
        "scheduler.start()\n",
        "\n",
        "# Mantém o script em execução para que o agendador funcione\n",
        "import time\n",
        "while True:\n",
        "    time.sleep(60)  # Verifica a cada minuto"
      ],
      "metadata": {
        "id": "PW_874aKDA3Q"
      },
      "execution_count": null,
      "outputs": []
    }
  ]
}